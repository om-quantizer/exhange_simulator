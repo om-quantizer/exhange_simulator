{
 "cells": [
  {
   "cell_type": "code",
   "execution_count": 12,
   "metadata": {},
   "outputs": [],
   "source": [
    "import pandas as pd\n",
    "import numpy as np"
   ]
  },
  {
   "cell_type": "code",
   "execution_count": 13,
   "metadata": {},
   "outputs": [],
   "source": [
    "CSV_PATH      = \"Data/SBIN.csv\"   # ← update this\n",
    "TIMESTAMP_COL = \"DateTime\"               # or whatever your time column is called\n",
    "PRICE_COL     = \"SBINEQN\"                   # or your price column name\n",
    "OUTPUT_CSV    = \"sbin_metrics.csv\""
   ]
  },
  {
   "cell_type": "code",
   "execution_count": 14,
   "metadata": {},
   "outputs": [],
   "source": [
    "def compute_stylized_facts(df, intervals):\n",
    "    metrics = []\n",
    "    for label, rule in intervals.items():\n",
    "        # aggregate to last‐tick in each bin\n",
    "        agg = df[PRICE_COL].resample(rule).last().dropna().to_frame(name=\"price\")\n",
    "        # compute log‐returns\n",
    "        agg[\"log_ret\"] = np.log(agg[\"price\"]).diff().dropna()\n",
    "        # metrics\n",
    "        realized_vol = np.sqrt((agg[\"log_ret\"] ** 2).sum())\n",
    "        skew         = agg[\"log_ret\"].skew()\n",
    "        kurt         = agg[\"log_ret\"].kurtosis()\n",
    "        metrics.append({\n",
    "            \"interval\":    label,\n",
    "            \"n_points\":    len(agg),\n",
    "            \"realized_vol\": realized_vol,\n",
    "            \"skewness\":     skew,\n",
    "            \"kurtosis\":     kurt\n",
    "        })\n",
    "    return pd.DataFrame(metrics)"
   ]
  },
  {
   "cell_type": "code",
   "execution_count": 15,
   "metadata": {},
   "outputs": [
    {
     "name": "stdout",
     "output_type": "stream",
     "text": [
      "\n",
      "SBIN Stylized‐Fact Metrics:\n",
      "\n",
      "interval  n_points  realized_vol  skewness  kurtosis\n",
      "      5s      1697      0.011131  0.532386  7.869298\n",
      "     20s       457      0.009913  0.008707  1.610792\n",
      "    5min        32      0.011413 -0.169364  0.552102\n",
      "   15min        11      0.009430 -0.116998 -0.094001\n",
      "   30min         6      0.005332 -0.441496 -2.785880\n",
      "\n",
      "Metrics saved to sbin_metrics.csv\n"
     ]
    }
   ],
   "source": [
    "df = pd.read_csv(CSV_PATH, parse_dates=[TIMESTAMP_COL])\n",
    "df = df.set_index(TIMESTAMP_COL).sort_index()\n",
    "\n",
    "# 2) Define the aggregation intervals\n",
    "intervals = {\n",
    "    \"5s\": \"5s\",\n",
    "    \"20s\": \"20s\",\n",
    "    \"5min\": \"5min\",\n",
    "    \"15min\": \"15min\",\n",
    "    \"30min\": \"30min\"\n",
    "}\n",
    "\n",
    "# 3) Compute metrics\n",
    "metrics_df = compute_stylized_facts(df, intervals)\n",
    "\n",
    "# 4) Output\n",
    "print(\"\\nSBIN Stylized‐Fact Metrics:\\n\")\n",
    "print(metrics_df.to_string(index=False))\n",
    "metrics_df.to_csv(OUTPUT_CSV, index=False)\n",
    "print(f\"\\nMetrics saved to {OUTPUT_CSV}\")"
   ]
  },
  {
   "cell_type": "code",
   "execution_count": 16,
   "metadata": {},
   "outputs": [
    {
     "ename": "NameError",
     "evalue": "name 'run_one_day_return_ticks' is not defined",
     "output_type": "error",
     "traceback": [
      "\u001b[31m---------------------------------------------------------------------------\u001b[39m",
      "\u001b[31mNameError\u001b[39m                                 Traceback (most recent call last)",
      "\u001b[36mCell\u001b[39m\u001b[36m \u001b[39m\u001b[32mIn[16]\u001b[39m\u001b[32m, line 50\u001b[39m\n\u001b[32m     41\u001b[39m space  = [\n\u001b[32m     42\u001b[39m     Real(\u001b[32m0.0\u001b[39m,   \u001b[32m0.001\u001b[39m,   name=\u001b[33m\"\u001b[39m\u001b[33mmu\u001b[39m\u001b[33m\"\u001b[39m),\n\u001b[32m     43\u001b[39m     Real(\u001b[32m0.0001\u001b[39m,\u001b[32m0.002\u001b[39m,   name=\u001b[33m\"\u001b[39m\u001b[33msigma\u001b[39m\u001b[33m\"\u001b[39m),\n\u001b[32m   (...)\u001b[39m\u001b[32m     46\u001b[39m     Real(\u001b[32m0.01\u001b[39m,   \u001b[32m0.2\u001b[39m,    name=\u001b[33m\"\u001b[39m\u001b[33magg\u001b[39m\u001b[33m\"\u001b[39m)\n\u001b[32m     47\u001b[39m ]\n\u001b[32m     49\u001b[39m \u001b[38;5;66;03m# 4) Run Bayesian optimization\u001b[39;00m\n\u001b[32m---> \u001b[39m\u001b[32m50\u001b[39m res = \u001b[43mgp_minimize\u001b[49m\u001b[43m(\u001b[49m\n\u001b[32m     51\u001b[39m \u001b[43m    \u001b[49m\u001b[43mfunc\u001b[49m\u001b[43m=\u001b[49m\u001b[43mobjective\u001b[49m\u001b[43m,\u001b[49m\n\u001b[32m     52\u001b[39m \u001b[43m    \u001b[49m\u001b[43mdimensions\u001b[49m\u001b[43m=\u001b[49m\u001b[43mspace\u001b[49m\u001b[43m,\u001b[49m\n\u001b[32m     53\u001b[39m \u001b[43m    \u001b[49m\u001b[43mn_calls\u001b[49m\u001b[43m=\u001b[49m\u001b[32;43m30\u001b[39;49m\u001b[43m,\u001b[49m\u001b[43m        \u001b[49m\u001b[38;5;66;43;03m# number of simulations to run\u001b[39;49;00m\n\u001b[32m     54\u001b[39m \u001b[43m    \u001b[49m\u001b[43mn_initial_points\u001b[49m\u001b[43m=\u001b[49m\u001b[32;43m5\u001b[39;49m\u001b[43m,\u001b[49m\n\u001b[32m     55\u001b[39m \u001b[43m    \u001b[49m\u001b[43mrandom_state\u001b[49m\u001b[43m=\u001b[49m\u001b[32;43m42\u001b[39;49m\n\u001b[32m     56\u001b[39m \u001b[43m)\u001b[49m\n\u001b[32m     58\u001b[39m \u001b[38;5;66;03m# 5) Extract best parameters\u001b[39;00m\n\u001b[32m     59\u001b[39m best_mu, best_sigma, best_bots, best_thresh, best_agg = res.x\n",
      "\u001b[36mFile \u001b[39m\u001b[32m~\\AppData\\Roaming\\Python\\Python313\\site-packages\\skopt\\optimizer\\gp.py:281\u001b[39m, in \u001b[36mgp_minimize\u001b[39m\u001b[34m(func, dimensions, base_estimator, n_calls, n_random_starts, n_initial_points, initial_point_generator, acq_func, acq_optimizer, x0, y0, random_state, verbose, callback, n_points, n_restarts_optimizer, xi, kappa, noise, n_jobs, model_queue_size, space_constraint)\u001b[39m\n\u001b[32m    273\u001b[39m \u001b[38;5;28;01mif\u001b[39;00m base_estimator \u001b[38;5;129;01mis\u001b[39;00m \u001b[38;5;28;01mNone\u001b[39;00m:\n\u001b[32m    274\u001b[39m     base_estimator = cook_estimator(\n\u001b[32m    275\u001b[39m         \u001b[33m\"\u001b[39m\u001b[33mGP\u001b[39m\u001b[33m\"\u001b[39m,\n\u001b[32m    276\u001b[39m         space=space,\n\u001b[32m    277\u001b[39m         random_state=rng.randint(\u001b[32m0\u001b[39m, np.iinfo(np.int32).max),\n\u001b[32m    278\u001b[39m         noise=noise,\n\u001b[32m    279\u001b[39m     )\n\u001b[32m--> \u001b[39m\u001b[32m281\u001b[39m \u001b[38;5;28;01mreturn\u001b[39;00m \u001b[43mbase_minimize\u001b[49m\u001b[43m(\u001b[49m\n\u001b[32m    282\u001b[39m \u001b[43m    \u001b[49m\u001b[43mfunc\u001b[49m\u001b[43m,\u001b[49m\n\u001b[32m    283\u001b[39m \u001b[43m    \u001b[49m\u001b[43mspace\u001b[49m\u001b[43m,\u001b[49m\n\u001b[32m    284\u001b[39m \u001b[43m    \u001b[49m\u001b[43mbase_estimator\u001b[49m\u001b[43m=\u001b[49m\u001b[43mbase_estimator\u001b[49m\u001b[43m,\u001b[49m\n\u001b[32m    285\u001b[39m \u001b[43m    \u001b[49m\u001b[43macq_func\u001b[49m\u001b[43m=\u001b[49m\u001b[43macq_func\u001b[49m\u001b[43m,\u001b[49m\n\u001b[32m    286\u001b[39m \u001b[43m    \u001b[49m\u001b[43mxi\u001b[49m\u001b[43m=\u001b[49m\u001b[43mxi\u001b[49m\u001b[43m,\u001b[49m\n\u001b[32m    287\u001b[39m \u001b[43m    \u001b[49m\u001b[43mkappa\u001b[49m\u001b[43m=\u001b[49m\u001b[43mkappa\u001b[49m\u001b[43m,\u001b[49m\n\u001b[32m    288\u001b[39m \u001b[43m    \u001b[49m\u001b[43macq_optimizer\u001b[49m\u001b[43m=\u001b[49m\u001b[43macq_optimizer\u001b[49m\u001b[43m,\u001b[49m\n\u001b[32m    289\u001b[39m \u001b[43m    \u001b[49m\u001b[43mn_calls\u001b[49m\u001b[43m=\u001b[49m\u001b[43mn_calls\u001b[49m\u001b[43m,\u001b[49m\n\u001b[32m    290\u001b[39m \u001b[43m    \u001b[49m\u001b[43mn_points\u001b[49m\u001b[43m=\u001b[49m\u001b[43mn_points\u001b[49m\u001b[43m,\u001b[49m\n\u001b[32m    291\u001b[39m \u001b[43m    \u001b[49m\u001b[43mn_random_starts\u001b[49m\u001b[43m=\u001b[49m\u001b[43mn_random_starts\u001b[49m\u001b[43m,\u001b[49m\n\u001b[32m    292\u001b[39m \u001b[43m    \u001b[49m\u001b[43mn_initial_points\u001b[49m\u001b[43m=\u001b[49m\u001b[43mn_initial_points\u001b[49m\u001b[43m,\u001b[49m\n\u001b[32m    293\u001b[39m \u001b[43m    \u001b[49m\u001b[43minitial_point_generator\u001b[49m\u001b[43m=\u001b[49m\u001b[43minitial_point_generator\u001b[49m\u001b[43m,\u001b[49m\n\u001b[32m    294\u001b[39m \u001b[43m    \u001b[49m\u001b[43mn_restarts_optimizer\u001b[49m\u001b[43m=\u001b[49m\u001b[43mn_restarts_optimizer\u001b[49m\u001b[43m,\u001b[49m\n\u001b[32m    295\u001b[39m \u001b[43m    \u001b[49m\u001b[43mx0\u001b[49m\u001b[43m=\u001b[49m\u001b[43mx0\u001b[49m\u001b[43m,\u001b[49m\n\u001b[32m    296\u001b[39m \u001b[43m    \u001b[49m\u001b[43my0\u001b[49m\u001b[43m=\u001b[49m\u001b[43my0\u001b[49m\u001b[43m,\u001b[49m\n\u001b[32m    297\u001b[39m \u001b[43m    \u001b[49m\u001b[43mrandom_state\u001b[49m\u001b[43m=\u001b[49m\u001b[43mrng\u001b[49m\u001b[43m,\u001b[49m\n\u001b[32m    298\u001b[39m \u001b[43m    \u001b[49m\u001b[43mverbose\u001b[49m\u001b[43m=\u001b[49m\u001b[43mverbose\u001b[49m\u001b[43m,\u001b[49m\n\u001b[32m    299\u001b[39m \u001b[43m    \u001b[49m\u001b[43mspace_constraint\u001b[49m\u001b[43m=\u001b[49m\u001b[43mspace_constraint\u001b[49m\u001b[43m,\u001b[49m\n\u001b[32m    300\u001b[39m \u001b[43m    \u001b[49m\u001b[43mcallback\u001b[49m\u001b[43m=\u001b[49m\u001b[43mcallback\u001b[49m\u001b[43m,\u001b[49m\n\u001b[32m    301\u001b[39m \u001b[43m    \u001b[49m\u001b[43mn_jobs\u001b[49m\u001b[43m=\u001b[49m\u001b[43mn_jobs\u001b[49m\u001b[43m,\u001b[49m\n\u001b[32m    302\u001b[39m \u001b[43m    \u001b[49m\u001b[43mmodel_queue_size\u001b[49m\u001b[43m=\u001b[49m\u001b[43mmodel_queue_size\u001b[49m\u001b[43m,\u001b[49m\n\u001b[32m    303\u001b[39m \u001b[43m\u001b[49m\u001b[43m)\u001b[49m\n",
      "\u001b[36mFile \u001b[39m\u001b[32m~\\AppData\\Roaming\\Python\\Python313\\site-packages\\skopt\\optimizer\\base.py:332\u001b[39m, in \u001b[36mbase_minimize\u001b[39m\u001b[34m(func, dimensions, base_estimator, n_calls, n_random_starts, n_initial_points, initial_point_generator, acq_func, acq_optimizer, x0, y0, random_state, verbose, callback, n_points, n_restarts_optimizer, xi, kappa, n_jobs, model_queue_size, space_constraint)\u001b[39m\n\u001b[32m    330\u001b[39m \u001b[38;5;28;01mfor\u001b[39;00m _ \u001b[38;5;129;01min\u001b[39;00m \u001b[38;5;28mrange\u001b[39m(n_calls):\n\u001b[32m    331\u001b[39m     next_x = optimizer.ask()\n\u001b[32m--> \u001b[39m\u001b[32m332\u001b[39m     next_y = \u001b[43mfunc\u001b[49m\u001b[43m(\u001b[49m\u001b[43mnext_x\u001b[49m\u001b[43m)\u001b[49m\n\u001b[32m    333\u001b[39m     result = optimizer.tell(next_x, next_y)\n\u001b[32m    334\u001b[39m     result.specs = specs\n",
      "\u001b[36mCell\u001b[39m\u001b[36m \u001b[39m\u001b[32mIn[16]\u001b[39m\u001b[32m, line 33\u001b[39m, in \u001b[36mobjective\u001b[39m\u001b[34m(x)\u001b[39m\n\u001b[32m     31\u001b[39m num_bots = \u001b[38;5;28mint\u001b[39m(num_bots)\n\u001b[32m     32\u001b[39m \u001b[38;5;66;03m# 1) simulate\u001b[39;00m\n\u001b[32m---> \u001b[39m\u001b[32m33\u001b[39m df = \u001b[43mrun_one_day_return_ticks\u001b[49m(mu, sigma, num_bots, vol_thresh, agg)\n\u001b[32m     34\u001b[39m \u001b[38;5;66;03m# 2) metrics\u001b[39;00m\n\u001b[32m     35\u001b[39m mets = compute_metrics(df, intervals)\n",
      "\u001b[31mNameError\u001b[39m: name 'run_one_day_return_ticks' is not defined"
     ]
    }
   ],
   "source": [
    "# In your notebook:\n",
    "\n",
    "import numpy as np\n",
    "from skopt import gp_minimize\n",
    "from skopt.space import Real, Integer\n",
    "import pandas as pd\n",
    "\n",
    "# 1) Your target vols from Step 1:\n",
    "target = {\n",
    "    \"5s\":   0.011131,\n",
    "    \"20s\":  0.009913,\n",
    "    \"5min\": 0.011413,\n",
    "    \"15min\":0.009430,\n",
    "    \"30min\":0.005332\n",
    "}\n",
    "\n",
    "# 2) Wrap your existing functions:\n",
    "#    run_one_day_return_ticks(mu, sigma, num_bots, vol_thresh, momentum_aggression)\n",
    "#    compute_metrics(df_ticks, intervals)\n",
    "\n",
    "intervals = {\n",
    "    \"5s\":   \"5S\",\n",
    "    \"20s\":  \"20S\",\n",
    "    \"5min\": \"5T\",\n",
    "    \"15min\":\"15T\",\n",
    "    \"30min\":\"30T\"\n",
    "}\n",
    "\n",
    "def objective(x):\n",
    "    mu, sigma, num_bots, vol_thresh, agg = x\n",
    "    num_bots = int(num_bots)\n",
    "    # 1) simulate\n",
    "    df = run_one_day_return_ticks(mu, sigma, num_bots, vol_thresh, agg)\n",
    "    # 2) metrics\n",
    "    mets = compute_metrics(df, intervals)\n",
    "    # 3) SSE on vols\n",
    "    err = sum((mets[f\"{k}_vol\"] - target[k])**2 for k in target)\n",
    "    return err\n",
    "\n",
    "# 3) Define your search space\n",
    "space  = [\n",
    "    Real(0.0,   0.001,   name=\"mu\"),\n",
    "    Real(0.0001,0.002,   name=\"sigma\"),\n",
    "    Integer(10,  5000,   name=\"num_bots\"),\n",
    "    Real(0.0001,0.005,   name=\"vol_thresh\"),\n",
    "    Real(0.01,   0.2,    name=\"agg\")\n",
    "]\n",
    "\n",
    "# 4) Run Bayesian optimization\n",
    "res = gp_minimize(\n",
    "    func=objective,\n",
    "    dimensions=space,\n",
    "    n_calls=30,        # number of simulations to run\n",
    "    n_initial_points=5,\n",
    "    random_state=42\n",
    ")\n",
    "\n",
    "# 5) Extract best parameters\n",
    "best_mu, best_sigma, best_bots, best_thresh, best_agg = res.x\n",
    "best_error = res.fun\n",
    "\n",
    "print(\"Best params:\")\n",
    "print(f\"  mu={best_mu:.6f}, sigma={best_sigma:.6f}, num_bots={best_bots},\")\n",
    "print(f\"  vol_thresh={best_thresh:.6f}, momentum_aggression={best_agg:.3f}\")\n",
    "print(\"Objective (SSE):\", best_error)\n",
    "\n",
    "# Optionally, assemble results into a DataFrame\n",
    "records = pd.DataFrame(res.x_iters, columns=[d.name for d in space])\n",
    "records[\"error\"] = res.func_vals\n",
    "display(records)\n"
   ]
  },
  {
   "cell_type": "code",
   "execution_count": null,
   "metadata": {},
   "outputs": [],
   "source": []
  }
 ],
 "metadata": {
  "kernelspec": {
   "display_name": "Python 3",
   "language": "python",
   "name": "python3"
  },
  "language_info": {
   "codemirror_mode": {
    "name": "ipython",
    "version": 3
   },
   "file_extension": ".py",
   "mimetype": "text/x-python",
   "name": "python",
   "nbconvert_exporter": "python",
   "pygments_lexer": "ipython3",
   "version": "3.13.0"
  }
 },
 "nbformat": 4,
 "nbformat_minor": 2
}
